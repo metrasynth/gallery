{
 "cells": [
  {
   "cell_type": "markdown",
   "metadata": {},
   "source": [
    "# Altering patterns in-place using SunVox DLL\n",
    "\n",
    "```bash\n",
    "pip install radiant-voices sunvox-dll-python jupyterlab\n",
    "jupyter lab\n",
    "```\n",
    "\n",
    "This notebook shows you how to construct a simple SunVox project using Radiant Voices, load that project into the SunVox DLL, then alter the pattern data in-place while the project is playing in a SunVox-managed thread."
   ]
  },
  {
   "cell_type": "markdown",
   "metadata": {},
   "source": [
    "## Imports"
   ]
  },
  {
   "cell_type": "code",
   "execution_count": 1,
   "metadata": {},
   "outputs": [],
   "source": [
    "from random import choice\n",
    "from time import sleep\n",
    "\n",
    "from rv.api import Pattern, Project, m, NOTE, NOTECMD\n",
    "from sunvox.api import init, Slot"
   ]
  },
  {
   "cell_type": "markdown",
   "metadata": {},
   "source": [
    "## Initialize SunVox"
   ]
  },
  {
   "cell_type": "code",
   "execution_count": 2,
   "metadata": {},
   "outputs": [],
   "source": [
    "init(None, 44100, 2, 0)\n",
    "slot = Slot()"
   ]
  },
  {
   "cell_type": "markdown",
   "metadata": {},
   "source": [
    "## Create a project with an Analog Generator"
   ]
  },
  {
   "cell_type": "code",
   "execution_count": 3,
   "metadata": {},
   "outputs": [],
   "source": [
    "project = Project()\n",
    "inst = project.output << project.new_module(\n",
    "    m.AnalogGenerator,\n",
    "    sustain=False,\n",
    "    release=100,\n",
    ")"
   ]
  },
  {
   "cell_type": "markdown",
   "metadata": {},
   "source": [
    "## Create a tiny 4×4 pattern"
   ]
  },
  {
   "cell_type": "code",
   "execution_count": 4,
   "metadata": {},
   "outputs": [],
   "source": [
    "pattern = Pattern(lines=4)\n",
    "project.attach_pattern(pattern)"
   ]
  },
  {
   "cell_type": "markdown",
   "metadata": {},
   "source": [
    "## Randomize the notes in the pattern"
   ]
  },
  {
   "cell_type": "code",
   "execution_count": 5,
   "metadata": {},
   "outputs": [],
   "source": [
    "def randomize_notes(pdata, module):\n",
    "    for row in pdata:\n",
    "        for note in row:\n",
    "            note.module = choice([0, module.index + 1])\n",
    "            note.note = NOTECMD(choice(list(NOTE))) if note.module else NOTECMD.EMPTY"
   ]
  },
  {
   "cell_type": "code",
   "execution_count": 6,
   "metadata": {},
   "outputs": [
    {
     "data": {
      "text/plain": [
       "[[Note(note=<NOTECMD.C0: 1>, vel=0, module=2, ctl=0, val=0),\n",
       "  Note(note=<NOTECMD.d2: 28>, vel=0, module=2, ctl=0, val=0),\n",
       "  Note(note=<NOTECMD.d6: 76>, vel=0, module=2, ctl=0, val=0),\n",
       "  Note(note=<NOTECMD.EMPTY: 0>, vel=0, module=0, ctl=0, val=0)],\n",
       " [Note(note=<NOTECMD.EMPTY: 0>, vel=0, module=0, ctl=0, val=0),\n",
       "  Note(note=<NOTECMD.EMPTY: 0>, vel=0, module=0, ctl=0, val=0),\n",
       "  Note(note=<NOTECMD.EMPTY: 0>, vel=0, module=0, ctl=0, val=0),\n",
       "  Note(note=<NOTECMD.EMPTY: 0>, vel=0, module=0, ctl=0, val=0)],\n",
       " [Note(note=<NOTECMD.G3: 44>, vel=0, module=2, ctl=0, val=0),\n",
       "  Note(note=<NOTECMD.EMPTY: 0>, vel=0, module=0, ctl=0, val=0),\n",
       "  Note(note=<NOTECMD.E8: 101>, vel=0, module=2, ctl=0, val=0),\n",
       "  Note(note=<NOTECMD.EMPTY: 0>, vel=0, module=0, ctl=0, val=0)],\n",
       " [Note(note=<NOTECMD.B3: 48>, vel=0, module=2, ctl=0, val=0),\n",
       "  Note(note=<NOTECMD.EMPTY: 0>, vel=0, module=0, ctl=0, val=0),\n",
       "  Note(note=<NOTECMD.F8: 102>, vel=0, module=2, ctl=0, val=0),\n",
       "  Note(note=<NOTECMD.C3: 37>, vel=0, module=2, ctl=0, val=0)]]"
      ]
     },
     "execution_count": 6,
     "metadata": {},
     "output_type": "execute_result"
    }
   ],
   "source": [
    "randomize_notes(pattern.data, inst)\n",
    "pattern.data"
   ]
  },
  {
   "cell_type": "markdown",
   "metadata": {},
   "source": [
    "## Load & play the project"
   ]
  },
  {
   "cell_type": "code",
   "execution_count": 7,
   "metadata": {},
   "outputs": [
    {
     "data": {
      "text/plain": [
       "0"
      ]
     },
     "execution_count": 7,
     "metadata": {},
     "output_type": "execute_result"
    }
   ],
   "source": [
    "slot.load(project)\n",
    "slot.play_from_beginning()"
   ]
  },
  {
   "cell_type": "markdown",
   "metadata": {},
   "source": [
    "## Update pattern data in place during playback"
   ]
  },
  {
   "cell_type": "code",
   "execution_count": 8,
   "metadata": {},
   "outputs": [],
   "source": [
    "def update_pdata(pdata, pattern):\n",
    "    width = len(pattern.data[0])\n",
    "    for y, line in enumerate(pattern.data):\n",
    "        for x, note in enumerate(line):\n",
    "            pnote = pdata[y * width + x]\n",
    "            pnote.note = note.note\n",
    "            pnote.vel = note.vel\n",
    "            pnote.module = note.module\n",
    "            pnote.ctl = note.ctl\n",
    "            pnote.val = note.val"
   ]
  },
  {
   "cell_type": "code",
   "execution_count": 9,
   "metadata": {},
   "outputs": [],
   "source": [
    "pdata = slot.get_pattern_data(0)"
   ]
  },
  {
   "cell_type": "code",
   "execution_count": 10,
   "metadata": {},
   "outputs": [
    {
     "data": {
      "text/plain": [
       "0"
      ]
     },
     "execution_count": 10,
     "metadata": {},
     "output_type": "execute_result"
    }
   ],
   "source": [
    "slot.play_from_beginning()\n",
    "for _ in range(25):\n",
    "    randomize_notes(pattern.data, inst)\n",
    "    update_pdata(pdata, pattern)\n",
    "    sleep(.5)\n",
    "slot.stop()"
   ]
  }
 ],
 "metadata": {
  "kernelspec": {
   "display_name": "Python 3",
   "language": "python",
   "name": "python3"
  },
  "language_info": {
   "codemirror_mode": {
    "name": "ipython",
    "version": 3
   },
   "file_extension": ".py",
   "mimetype": "text/x-python",
   "name": "python",
   "nbconvert_exporter": "python",
   "pygments_lexer": "ipython3",
   "version": "3.6.4"
  }
 },
 "nbformat": 4,
 "nbformat_minor": 2
}
