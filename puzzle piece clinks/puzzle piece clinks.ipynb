{
 "cells": [
  {
   "cell_type": "code",
   "execution_count": 1,
   "id": "9a5e0595-501d-4341-a01d-c741b0fd6b5f",
   "metadata": {},
   "outputs": [],
   "source": [
    "BASE_NAME = \"puzzle piece clinks\""
   ]
  },
  {
   "cell_type": "code",
   "execution_count": 2,
   "id": "4158a174-2cd5-4f78-85d2-be7ab7f5f745",
   "metadata": {},
   "outputs": [],
   "source": [
    "from rv.api import m, Synth, Project, Pattern, NOTE"
   ]
  },
  {
   "cell_type": "code",
   "execution_count": 3,
   "id": "152d594b-a7af-4082-ae98-0ee18d5b35f3",
   "metadata": {},
   "outputs": [],
   "source": [
    "synth = Synth(meta := m.MetaModule())\n",
    "meta.input_module = 256\n",
    "meta.play_patterns = meta.PlayPatterns.on\n",
    "meta.arpeggiator = True"
   ]
  },
  {
   "cell_type": "code",
   "execution_count": 4,
   "id": "c07f01ff-775e-4366-9d0b-225c8c82b0be",
   "metadata": {},
   "outputs": [],
   "source": [
    "project = synth.module.project = Project()"
   ]
  },
  {
   "cell_type": "code",
   "execution_count": 5,
   "id": "fbbd4be2-1d39-4b2f-a83c-dd2de81e629a",
   "metadata": {},
   "outputs": [
    {
     "data": {
      "text/plain": [
       "75"
      ]
     },
     "execution_count": 5,
     "metadata": {},
     "output_type": "execute_result"
    }
   ],
   "source": [
    "from pathlib import Path\n",
    "ogg_paths = list(Path(\".\").glob(f\"{BASE_NAME}*.ogg\"))\n",
    "len(ogg_paths)"
   ]
  },
  {
   "cell_type": "code",
   "execution_count": 6,
   "id": "32177463-1fa9-40d7-8e30-07d8327489e2",
   "metadata": {},
   "outputs": [
    {
     "data": {
      "text/plain": [
       "75"
      ]
     },
     "execution_count": 6,
     "metadata": {},
     "output_type": "execute_result"
    }
   ],
   "source": [
    "ogg_mods = []\n",
    "for ogg_path in ogg_paths:\n",
    "    ogg_mod = project.new_module(m.VorbisPlayer)\n",
    "    ogg_mod.data = ogg_path.read_bytes()\n",
    "    ogg_mod.original_speed = False\n",
    "    ogg_mods += [project.output << ogg_mod]\n",
    "len(ogg_mods)"
   ]
  },
  {
   "cell_type": "code",
   "execution_count": 7,
   "id": "ec13e988-6009-4be8-8b46-65cddabafc6e",
   "metadata": {},
   "outputs": [],
   "source": [
    "pattern = Pattern(tracks=1, lines=len(ogg_mods))\n",
    "project += pattern"
   ]
  },
  {
   "cell_type": "code",
   "execution_count": 8,
   "id": "2271a436-540e-4111-996e-af43e33bddd5",
   "metadata": {},
   "outputs": [],
   "source": [
    "for line, ogg_mod in enumerate(ogg_mods):\n",
    "    note = pattern.data[line][0]\n",
    "    note.note = NOTE.C6\n",
    "    note.module = ogg_mod.index + 1"
   ]
  },
  {
   "cell_type": "code",
   "execution_count": 9,
   "id": "631f7bce-941c-48a1-a9be-49b24cbd21b6",
   "metadata": {},
   "outputs": [],
   "source": [
    "synth.write_to(Path(f\"{BASE_NAME}.sunsynth\").open(\"wb\"))"
   ]
  },
  {
   "cell_type": "code",
   "execution_count": null,
   "id": "7f367326-d7b9-4b79-b10f-efd3a9075cff",
   "metadata": {},
   "outputs": [],
   "source": []
  }
 ],
 "metadata": {
  "kernelspec": {
   "display_name": "Python 3 (ipykernel)",
   "language": "python",
   "name": "python3"
  },
  "language_info": {
   "codemirror_mode": {
    "name": "ipython",
    "version": 3
   },
   "file_extension": ".py",
   "mimetype": "text/x-python",
   "name": "python",
   "nbconvert_exporter": "python",
   "pygments_lexer": "ipython3",
   "version": "3.10.1"
  }
 },
 "nbformat": 4,
 "nbformat_minor": 5
}
